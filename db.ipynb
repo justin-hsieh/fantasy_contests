{
 "cells": [
  {
   "cell_type": "code",
   "execution_count": 1,
   "metadata": {},
   "outputs": [],
   "source": [
    "import firebase_admin\n",
    "from firebase_admin import db, credentials"
   ]
  },
  {
   "cell_type": "code",
   "execution_count": 29,
   "metadata": {},
   "outputs": [],
   "source": [
    "#firebase_admin.delete_app(firebase_admin.get_app())"
   ]
  },
  {
   "cell_type": "code",
   "execution_count": 53,
   "metadata": {},
   "outputs": [],
   "source": [
    "from dotenv import load_dotenv\n",
    "import os\n",
    "load_dotenv()\n",
    "DATABASE_URL = os.getenv('DATABASE_URL')\n",
    "CREDS = os.getenv('CREDS')"
   ]
  },
  {
   "cell_type": "code",
   "execution_count": 3,
   "metadata": {},
   "outputs": [
    {
     "data": {
      "text/plain": [
       "<firebase_admin.App at 0x28feac8f100>"
      ]
     },
     "execution_count": 3,
     "metadata": {},
     "output_type": "execute_result"
    }
   ],
   "source": [
    "cred = credentials.Certificate(\"key.json\")\n",
    "firebase_admin.initialize_app(cred, {\"databaseURL\": \"https://fantasy-contests-default-rtdb.firebaseio.com/\"})"
   ]
  },
  {
   "cell_type": "code",
   "execution_count": 54,
   "metadata": {},
   "outputs": [],
   "source": [
    "\n",
    "if not firebase_admin._apps:\n",
    "    cred = credentials.Certificate(CREDS)\n",
    "    firebase_admin.initialize_app(cred, {\n",
    "        'databaseURL': DATABASE_URL\n",
    "    })"
   ]
  },
  {
   "cell_type": "code",
   "execution_count": 5,
   "metadata": {},
   "outputs": [
    {
     "data": {
      "text/plain": [
       "<firebase_admin.App at 0x28feac8f100>"
      ]
     },
     "execution_count": 5,
     "metadata": {},
     "output_type": "execute_result"
    }
   ],
   "source": [
    "firebase_admin.get_app()"
   ]
  },
  {
   "cell_type": "markdown",
   "metadata": {},
   "source": []
  },
  {
   "cell_type": "code",
   "execution_count": 8,
   "metadata": {},
   "outputs": [
    {
     "data": {
      "text/plain": [
       "<firebase_admin.db.Reference at 0x28feacfdc10>"
      ]
     },
     "execution_count": 8,
     "metadata": {},
     "output_type": "execute_result"
    }
   ],
   "source": [
    "ref.push(\"2023\")"
   ]
  },
  {
   "cell_type": "code",
   "execution_count": 52,
   "metadata": {},
   "outputs": [
    {
     "data": {
      "text/plain": [
       "{'-Nijq-obWPuF13Udi6zl': {'Week_7': {'contest': 'vnake;jrhngf',\n",
       "   'contest_results': [{'players': [{'game_played': 100,\n",
       "       'name': 'Roquan Smith',\n",
       "       'score': 7.4},\n",
       "      {'game_played': 100, 'name': \"Ja'Whaun Bentley\", 'score': 31.3}],\n",
       "     'rank': 1,\n",
       "     'team': 'Lets Get  Weird 🐸',\n",
       "     'total_score': 6999}]}}}"
      ]
     },
     "execution_count": 52,
     "metadata": {},
     "output_type": "execute_result"
    }
   ],
   "source": [
    "ref.get()"
   ]
  },
  {
   "cell_type": "code",
   "execution_count": 36,
   "metadata": {},
   "outputs": [],
   "source": [
    "ref = db.reference(\"/2022\")"
   ]
  },
  {
   "cell_type": "code",
   "execution_count": 38,
   "metadata": {},
   "outputs": [
    {
     "data": {
      "text/plain": [
       "{'-Nijq-obWPuF13Udi6zl': {'Week_7': {'contest': 'fdsafsd',\n",
       "   'contest_results': [{'players': [{'game_played': 100,\n",
       "       'name': 'Foyesade Oluokun',\n",
       "       'score': 39.1},\n",
       "      {'game_played': 100, 'name': 'Ernest Jones', 'score': 6.7}],\n",
       "     'rank': 1,\n",
       "     'team': 'Lets Get  Weird 🐸',\n",
       "     'total_score': 45.800000000000004}]}}}"
      ]
     },
     "execution_count": 38,
     "metadata": {},
     "output_type": "execute_result"
    }
   ],
   "source": [
    "db.reference(\"/2022\").get()"
   ]
  },
  {
   "cell_type": "code",
   "execution_count": 28,
   "metadata": {},
   "outputs": [],
   "source": [
    "ref.update({\n",
    "  \"Week_7\":\n",
    "  {\n",
    "  \"contest\": \"vnake;jrhngf\",\n",
    "  \"contest_results\": [\n",
    "    {\n",
    "      \"players\": [\n",
    "        {\n",
    "          \"game_played\": 100,\n",
    "          \"name\": \"Roquan Smith\",\n",
    "          \"score\": 7.4\n",
    "        },\n",
    "        {\n",
    "          \"game_played\": 100,\n",
    "          \"name\": \"Ja'Whaun Bentley\",\n",
    "          \"score\": 31.3\n",
    "        }\n",
    "      ],\n",
    "      \"rank\": 1,\n",
    "      \"team\": \"Lets Get  Weird \\ud83d\\udc38\",\n",
    "      \"total_score\": 45.800000000000004\n",
    "    }\n",
    "  ]\n",
    "}\n",
    "})"
   ]
  },
  {
   "cell_type": "code",
   "execution_count": 51,
   "metadata": {},
   "outputs": [],
   "source": [
    "\n",
    "for key, value in ref.get().items():\n",
    "  if (value[\"Week_7\"]):\n",
    "\n",
    "    ref.child(key).child(\"Week_7\").update(\n",
    "  {\n",
    "  \"contest\": \"vnake;jrhngf\",\n",
    "  \"contest_results\": [\n",
    "    {\n",
    "      \"players\": [\n",
    "        {\n",
    "          \"game_played\": 100,\n",
    "          \"name\": \"Roquan Smith\",\n",
    "          \"score\": 7.4\n",
    "        },\n",
    "        {\n",
    "          \"game_played\": 100,\n",
    "          \"name\": \"Ja'Whaun Bentley\",\n",
    "          \"score\": 31.3\n",
    "        }\n",
    "      ],\n",
    "      \"rank\": 1,\n",
    "      \"team\": \"Lets Get  Weird \\ud83d\\udc38\",\n",
    "      \"total_score\": 6999\n",
    "    }\n",
    "  ]\n",
    "}\n",
    ")"
   ]
  }
 ],
 "metadata": {
  "kernelspec": {
   "display_name": "venv",
   "language": "python",
   "name": "python3"
  },
  "language_info": {
   "codemirror_mode": {
    "name": "ipython",
    "version": 3
   },
   "file_extension": ".py",
   "mimetype": "text/x-python",
   "name": "python",
   "nbconvert_exporter": "python",
   "pygments_lexer": "ipython3",
   "version": "3.9.5"
  }
 },
 "nbformat": 4,
 "nbformat_minor": 2
}
